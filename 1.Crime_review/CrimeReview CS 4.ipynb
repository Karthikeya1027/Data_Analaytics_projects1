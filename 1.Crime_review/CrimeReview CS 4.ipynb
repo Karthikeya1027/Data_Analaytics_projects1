{
 "cells": [
  {
   "cell_type": "code",
   "execution_count": 12,
   "id": "c636a6fe-c3e1-45ce-94a9-1d8bec338f02",
   "metadata": {},
   "outputs": [
    {
     "name": "stdout",
     "output_type": "stream",
     "text": [
      "  CRIME REVIEW FOR THE MONTH OF OCTOBER - 2024 (As on  02/11/2024)  \\\n",
      "0                                            Sl. No.                 \n",
      "1                                                  1                 \n",
      "2                                                  2                 \n",
      "3                                                  3                 \n",
      "4                                                  4                 \n",
      "\n",
      "       Unnamed: 1                Unnamed: 2  \\\n",
      "0  Heads Of Crime                Major Head   \n",
      "1   A - IPC Crime  Murder (Sec.302/303 IPC)   \n",
      "2   A - IPC Crime  Murder (Sec.302/303 IPC)   \n",
      "3   A - IPC Crime  Murder (Sec.302/303 IPC)   \n",
      "4   A - IPC Crime  Murder (Sec.302/303 IPC)   \n",
      "\n",
      "                            Unnamed: 3  \\\n",
      "0                          Minor Heads   \n",
      "1                             For gain   \n",
      "2                Over Property Dispute   \n",
      "3  Due to Personal Vendetta or enemity   \n",
      "4               Due to Sexual jealousy   \n",
      "\n",
      "                                          Unnamed: 4  \\\n",
      "0  During the current year upto the end of month ...   \n",
      "1                                                 28   \n",
      "2                                                 20   \n",
      "3                                                 21   \n",
      "4                                                 13   \n",
      "\n",
      "                                        Unnamed: 5                 Unnamed: 6  \\\n",
      "0  During the corresponding month of previous year  During the previous month   \n",
      "1                                                0                          2   \n",
      "2                                                3                          1   \n",
      "3                                                2                          2   \n",
      "4                                                2                          0   \n",
      "\n",
      "                 Unnamed: 7  \n",
      "0  During the current month  \n",
      "1                         3  \n",
      "2                         2  \n",
      "3                         0  \n",
      "4                         0  \n"
     ]
    }
   ],
   "source": [
    "import pandas as pd\n",
    "\n",
    "# Load the dataset\n",
    "df = pd.read_csv('CRIME_REVIEW_FOR_THE_MONTH_OF_OCTOBER_2024_0.csv')\n",
    "\n",
    "# Display the first few rows\n",
    "print(df.head())"
   ]
  },
  {
   "cell_type": "markdown",
   "id": "2e2ea1f1-34ca-4bfd-97ad-11d51e8c6c8f",
   "metadata": {},
   "source": [
    "# Crime Review Data Analysis\n",
    "\n",
    "This script loads and previews a crime review dataset for February 2024.\n",
    "\n"
   ]
  },
  {
   "cell_type": "code",
   "execution_count": 14,
   "id": "fcf790e2-41ec-4757-81c2-a958aed41fba",
   "metadata": {},
   "outputs": [
    {
     "name": "stdout",
     "output_type": "stream",
     "text": [
      "CRIME REVIEW FOR THE MONTH OF OCTOBER - 2024 (As on  02/11/2024)     0\n",
      "Unnamed: 1                                                           0\n",
      "Unnamed: 2                                                           0\n",
      "Unnamed: 3                                                          71\n",
      "Unnamed: 4                                                           0\n",
      "Unnamed: 5                                                           0\n",
      "Unnamed: 6                                                           0\n",
      "Unnamed: 7                                                           0\n",
      "dtype: int64\n"
     ]
    },
    {
     "ename": "KeyError",
     "evalue": "'Minor Heads'",
     "output_type": "error",
     "traceback": [
      "\u001b[1;31m---------------------------------------------------------------------------\u001b[0m",
      "\u001b[1;31mKeyError\u001b[0m                                  Traceback (most recent call last)",
      "File \u001b[1;32mC:\\ProgramData\\anaconda3\\Lib\\site-packages\\pandas\\core\\indexes\\base.py:3805\u001b[0m, in \u001b[0;36mIndex.get_loc\u001b[1;34m(self, key)\u001b[0m\n\u001b[0;32m   3804\u001b[0m \u001b[38;5;28;01mtry\u001b[39;00m:\n\u001b[1;32m-> 3805\u001b[0m     \u001b[38;5;28;01mreturn\u001b[39;00m \u001b[38;5;28mself\u001b[39m\u001b[38;5;241m.\u001b[39m_engine\u001b[38;5;241m.\u001b[39mget_loc(casted_key)\n\u001b[0;32m   3806\u001b[0m \u001b[38;5;28;01mexcept\u001b[39;00m \u001b[38;5;167;01mKeyError\u001b[39;00m \u001b[38;5;28;01mas\u001b[39;00m err:\n",
      "File \u001b[1;32mindex.pyx:167\u001b[0m, in \u001b[0;36mpandas._libs.index.IndexEngine.get_loc\u001b[1;34m()\u001b[0m\n",
      "File \u001b[1;32mindex.pyx:196\u001b[0m, in \u001b[0;36mpandas._libs.index.IndexEngine.get_loc\u001b[1;34m()\u001b[0m\n",
      "File \u001b[1;32mpandas\\\\_libs\\\\hashtable_class_helper.pxi:7081\u001b[0m, in \u001b[0;36mpandas._libs.hashtable.PyObjectHashTable.get_item\u001b[1;34m()\u001b[0m\n",
      "File \u001b[1;32mpandas\\\\_libs\\\\hashtable_class_helper.pxi:7089\u001b[0m, in \u001b[0;36mpandas._libs.hashtable.PyObjectHashTable.get_item\u001b[1;34m()\u001b[0m\n",
      "\u001b[1;31mKeyError\u001b[0m: 'Minor Heads'",
      "\nThe above exception was the direct cause of the following exception:\n",
      "\u001b[1;31mKeyError\u001b[0m                                  Traceback (most recent call last)",
      "Cell \u001b[1;32mIn[14], line 5\u001b[0m\n\u001b[0;32m      2\u001b[0m \u001b[38;5;28mprint\u001b[39m(df\u001b[38;5;241m.\u001b[39misnull()\u001b[38;5;241m.\u001b[39msum())\n\u001b[0;32m      4\u001b[0m \u001b[38;5;66;03m# Handle missing values in 'Minor Head' column\u001b[39;00m\n\u001b[1;32m----> 5\u001b[0m df[\u001b[38;5;124m'\u001b[39m\u001b[38;5;124mMinor Head\u001b[39m\u001b[38;5;124m'\u001b[39m] \u001b[38;5;241m=\u001b[39m df[\u001b[38;5;124m'\u001b[39m\u001b[38;5;124mMinor Heads\u001b[39m\u001b[38;5;124m'\u001b[39m]\u001b[38;5;241m.\u001b[39mfillna(\u001b[38;5;124m'\u001b[39m\u001b[38;5;124mUnknown\u001b[39m\u001b[38;5;124m'\u001b[39m)\n",
      "File \u001b[1;32mC:\\ProgramData\\anaconda3\\Lib\\site-packages\\pandas\\core\\frame.py:4102\u001b[0m, in \u001b[0;36mDataFrame.__getitem__\u001b[1;34m(self, key)\u001b[0m\n\u001b[0;32m   4100\u001b[0m \u001b[38;5;28;01mif\u001b[39;00m \u001b[38;5;28mself\u001b[39m\u001b[38;5;241m.\u001b[39mcolumns\u001b[38;5;241m.\u001b[39mnlevels \u001b[38;5;241m>\u001b[39m \u001b[38;5;241m1\u001b[39m:\n\u001b[0;32m   4101\u001b[0m     \u001b[38;5;28;01mreturn\u001b[39;00m \u001b[38;5;28mself\u001b[39m\u001b[38;5;241m.\u001b[39m_getitem_multilevel(key)\n\u001b[1;32m-> 4102\u001b[0m indexer \u001b[38;5;241m=\u001b[39m \u001b[38;5;28mself\u001b[39m\u001b[38;5;241m.\u001b[39mcolumns\u001b[38;5;241m.\u001b[39mget_loc(key)\n\u001b[0;32m   4103\u001b[0m \u001b[38;5;28;01mif\u001b[39;00m is_integer(indexer):\n\u001b[0;32m   4104\u001b[0m     indexer \u001b[38;5;241m=\u001b[39m [indexer]\n",
      "File \u001b[1;32mC:\\ProgramData\\anaconda3\\Lib\\site-packages\\pandas\\core\\indexes\\base.py:3812\u001b[0m, in \u001b[0;36mIndex.get_loc\u001b[1;34m(self, key)\u001b[0m\n\u001b[0;32m   3807\u001b[0m     \u001b[38;5;28;01mif\u001b[39;00m \u001b[38;5;28misinstance\u001b[39m(casted_key, \u001b[38;5;28mslice\u001b[39m) \u001b[38;5;129;01mor\u001b[39;00m (\n\u001b[0;32m   3808\u001b[0m         \u001b[38;5;28misinstance\u001b[39m(casted_key, abc\u001b[38;5;241m.\u001b[39mIterable)\n\u001b[0;32m   3809\u001b[0m         \u001b[38;5;129;01mand\u001b[39;00m \u001b[38;5;28many\u001b[39m(\u001b[38;5;28misinstance\u001b[39m(x, \u001b[38;5;28mslice\u001b[39m) \u001b[38;5;28;01mfor\u001b[39;00m x \u001b[38;5;129;01min\u001b[39;00m casted_key)\n\u001b[0;32m   3810\u001b[0m     ):\n\u001b[0;32m   3811\u001b[0m         \u001b[38;5;28;01mraise\u001b[39;00m InvalidIndexError(key)\n\u001b[1;32m-> 3812\u001b[0m     \u001b[38;5;28;01mraise\u001b[39;00m \u001b[38;5;167;01mKeyError\u001b[39;00m(key) \u001b[38;5;28;01mfrom\u001b[39;00m \u001b[38;5;21;01merr\u001b[39;00m\n\u001b[0;32m   3813\u001b[0m \u001b[38;5;28;01mexcept\u001b[39;00m \u001b[38;5;167;01mTypeError\u001b[39;00m:\n\u001b[0;32m   3814\u001b[0m     \u001b[38;5;66;03m# If we have a listlike key, _check_indexing_error will raise\u001b[39;00m\n\u001b[0;32m   3815\u001b[0m     \u001b[38;5;66;03m#  InvalidIndexError. Otherwise we fall through and re-raise\u001b[39;00m\n\u001b[0;32m   3816\u001b[0m     \u001b[38;5;66;03m#  the TypeError.\u001b[39;00m\n\u001b[0;32m   3817\u001b[0m     \u001b[38;5;28mself\u001b[39m\u001b[38;5;241m.\u001b[39m_check_indexing_error(key)\n",
      "\u001b[1;31mKeyError\u001b[0m: 'Minor Heads'"
     ]
    }
   ],
   "source": [
    "# Check for missing values in each column\n",
    "print(df.isnull().sum())\n",
    "\n",
    "# Handle missing values in 'Minor Head' column\n",
    "df['Minor Head'] = df['Minor Head'].fillna('Unknown')  # Fill missing values with 'Unknown'"
   ]
  },
  {
   "cell_type": "markdown",
   "id": "47fdfded-ccbe-4ebb-8000-87578e1f6bc6",
   "metadata": {},
   "source": [
    "## Missing Values Handling\n",
    "\n",
    "- Checked for missing values in each column using `df.isnull().sum()`.  \n",
    "- Filled missing values in the `'Minor Head'` column with `'Unknown'` using `fillna()`.  "
   ]
  },
  {
   "cell_type": "code",
   "execution_count": null,
   "id": "7a514d1b-6c09-412a-b00d-17a0c25f27e7",
   "metadata": {},
   "outputs": [],
   "source": [
    "# Check data types\n",
    "print(df.info())\n",
    "\n",
    "# Convert columns to appropriate data types if needed\n",
    "# For example, ensure all crime count columns are integers\n",
    "df['During the current year upto the end of month under review'] = df['During the current year upto the end of month under review'].astype(int)\n",
    "df['During the corresponding month of previous year'] = df['During the corresponding month of previous year'].astype(int)\n",
    "df['During the previous month'] = df['During the previous month'].astype(int)\n",
    "df['During the current month'] = df['During the current month'].astype(int)"
   ]
  },
  {
   "cell_type": "markdown",
   "id": "50421c52-8820-4524-9703-0ed58a79d35d",
   "metadata": {},
   "source": [
    "# Data Type Checking and Conversion\n",
    "\n",
    "- Used `df.info()` to check data types of all columns.  \n",
    "- Ensured crime count columns are integers using `astype(int)`.  \n"
   ]
  },
  {
   "cell_type": "code",
   "execution_count": null,
   "id": "5817fc7b-49d9-4451-b4ee-6d6da8da4e9d",
   "metadata": {},
   "outputs": [],
   "source": [
    "# Drop 'Sl. No.' column if not needed\n",
    "df = df.drop(columns=['Sl. No.'])"
   ]
  },
  {
   "cell_type": "markdown",
   "id": "71be5e7c-d4e7-4698-9984-4c87937cd0f3",
   "metadata": {},
   "source": [
    "# Column Removal  \n",
    "\n",
    "- Dropped the `'Sl. No.'` column if it is not needed using `drop(columns=['Sl. No.'])`.  \n"
   ]
  },
  {
   "cell_type": "code",
   "execution_count": null,
   "id": "c3635ae0-2fc0-46a8-91ac-7eeea2ac02e7",
   "metadata": {},
   "outputs": [],
   "source": [
    "# Check for duplicate rows\n",
    "print(df.duplicated().sum())\n",
    "\n",
    "# Drop duplicates if any\n",
    "df = df.drop_duplicates()"
   ]
  },
  {
   "cell_type": "markdown",
   "id": "7b2d7022-3d6d-4be4-aa65-6c8a3e933924",
   "metadata": {},
   "source": [
    "# Duplicate Data Handling  \n",
    "\n",
    "- Checked for duplicate rows using `df.duplicated().sum()`.  \n",
    "- Removed duplicate rows using `drop_duplicates()`.  \n"
   ]
  },
  {
   "cell_type": "code",
   "execution_count": null,
   "id": "74c4d8f5-b0c0-4779-bc9f-c2298383799a",
   "metadata": {},
   "outputs": [],
   "source": [
    "# Get summary statistics for numerical columns\n",
    "print(df.describe())"
   ]
  },
  {
   "cell_type": "markdown",
   "id": "f86a6085-7504-455f-9bee-ad376a8cd3ed",
   "metadata": {},
   "source": [
    "# Summary Statistics  \n",
    "\n",
    "- Generated summary statistics for numerical columns using `df.describe()`.  \n"
   ]
  },
  {
   "cell_type": "code",
   "execution_count": null,
   "id": "b49e000b-a81a-4daf-997f-fb77e00005a5",
   "metadata": {},
   "outputs": [],
   "source": [
    "import matplotlib.pyplot as plt\n",
    "\n",
    "# Sum crimes for each time period\n",
    "time_periods = ['During the current year upto the end of month under review',\n",
    "                'During the corresponding month of previous year',\n",
    "                'During the previous month',\n",
    "                'During the current month']\n",
    "total_crimes = df[time_periods].sum()\n",
    "\n",
    "# Plot\n",
    "plt.figure(figsize=(10, 6))\n",
    "total_crimes.plot(kind='bar', color='skyblue')\n",
    "plt.title('Total Crimes Over Different Time Periods')\n",
    "plt.xlabel('Time Period')\n",
    "plt.ylabel('Total Crimes')\n",
    "plt.xticks(rotation=45)\n",
    "plt.show()"
   ]
  },
  {
   "cell_type": "markdown",
   "id": "5244fbaf-7a44-46c6-a9de-6ec0a576c5bc",
   "metadata": {},
   "source": [
    "# Crime Data Visualization\n",
    "\n",
    "- Summed up crimes for each time period using `df[time_periods].sum()`.  \n",
    "- Plotted a bar chart to visualize total crimes over different time periods using `matplotlib`.  \n"
   ]
  },
  {
   "cell_type": "code",
   "execution_count": null,
   "id": "9a92e7ac-8055-4e05-a83c-c3b50c33eda4",
   "metadata": {},
   "outputs": [],
   "source": [
    "# Scatter plot\n",
    "plt.figure(figsize=(8, 6))\n",
    "plt.scatter(df['During the previous month'], df['During the current month'], alpha=0.6, color='green')\n",
    "plt.title('Current Month vs. Previous Month Crimes')\n",
    "plt.xlabel('Previous Month Crimes')\n",
    "plt.ylabel('Current Month Crimes')\n",
    "plt.grid(True)\n",
    "plt.show()"
   ]
  },
  {
   "cell_type": "markdown",
   "id": "1b709dc0-0224-4988-855b-6e97a4707f09",
   "metadata": {},
   "source": [
    "# Scatter Plot: Current Month vs. Previous Month Crimes  \n",
    "\n",
    "- Plotted a scatter plot to compare crime counts between the **previous month** and the **current month**.  \n",
    "- Each point represents a data entry, showing how crime numbers vary between these two months.  \n",
    "- Helps identify trends, correlations, or outliers in crime patterns.  \n"
   ]
  },
  {
   "cell_type": "code",
   "execution_count": null,
   "id": "72f5918c-7520-44fc-aa8f-7a4ba9ce7013",
   "metadata": {},
   "outputs": [],
   "source": [
    "# Sort by current month crimes and select top 10\n",
    "top_crimes = df.nlargest(10, 'During the current month')\n",
    "\n",
    "# Plot\n",
    "plt.figure(figsize=(10, 6))\n",
    "plt.barh(top_crimes['Heads of Crime'], top_crimes['During the current month'], color='purple')\n",
    "plt.title('Top 10 Crimes in the Current Month')\n",
    "plt.xlabel('Number of Crimes')\n",
    "plt.ylabel('Heads of Crime')\n",
    "plt.show()"
   ]
  },
  {
   "cell_type": "markdown",
   "id": "eb1bb0c6-257d-4109-855f-928d2560a4b3",
   "metadata": {},
   "source": [
    "# Top 10 Crimes in the Current Month  \n",
    "\n",
    "- Sorted the dataset to find the **top 10 crimes** with the highest occurrences in the current month.  \n",
    "- Plotted a **horizontal bar chart** to visualize the most frequent crime types.  \n",
    "- Helps in identifying the most prevalent crimes for focused intervention.  \n"
   ]
  },
  {
   "cell_type": "code",
   "execution_count": null,
   "id": "d9cd0b67-2a1d-4bc4-acec-2f15e3977756",
   "metadata": {},
   "outputs": [],
   "source": [
    "# Check missing values\n",
    "missing_values = df['Minor Head'].isnull().value_counts()\n",
    "\n",
    "# Plot\n",
    "plt.figure(figsize=(6, 4))\n",
    "missing_values.plot(kind='bar', color=['blue', 'red'])\n",
    "plt.title('Missing Values in Minor Head')\n",
    "plt.xlabel('Missing Values')\n",
    "plt.ylabel('Count')\n",
    "plt.xticks([0, 1], ['Not Missing', 'Missing'], rotation=0)\n",
    "plt.show()"
   ]
  },
  {
   "cell_type": "markdown",
   "id": "8f248758-ebe6-4981-8950-9b85416cc8b3",
   "metadata": {},
   "source": [
    "# Missing Values in 'Minor Head'  \n",
    "\n",
    "- Checked for missing values in the **'Minor Head'** column.  \n",
    "- Plotted a **bar chart** to show the count of missing vs. non-missing values.  \n",
    "- Helps assess data completeness and determine the need for handling missing values.  \n"
   ]
  },
  {
   "cell_type": "code",
   "execution_count": null,
   "id": "23936a5b-ef85-4d82-990e-cfc30eed57f5",
   "metadata": {},
   "outputs": [],
   "source": [
    "# Plot trends over the current year\n",
    "plt.figure(figsize=(10, 6))\n",
    "plt.plot(df['During the current year upto the end of month under review'], marker='o', color='blue')\n",
    "plt.title('Crime Trends Over the Current Year')\n",
    "plt.xlabel('Serial Number')\n",
    "plt.ylabel('Total Crimes')\n",
    "plt.grid(True)\n",
    "plt.show()"
   ]
  },
  {
   "cell_type": "markdown",
   "id": "dc7d1fd2-5336-4629-a82b-52571adaf36f",
   "metadata": {},
   "source": [
    "# Crime Trends Over the Current Year  \n",
    "\n",
    "- Plotted a **line graph** to visualize crime trends over the current year.  \n",
    "- Each point represents crime data for a specific entry, helping identify fluctuations.  \n",
    "- Useful for spotting seasonal trends, increases, or decreases in crime rates.  \n"
   ]
  },
  {
   "cell_type": "code",
   "execution_count": null,
   "id": "31f1ac27-10cb-4274-ab00-f643a7854f2e",
   "metadata": {},
   "outputs": [],
   "source": [
    "import seaborn as sns\n",
    "\n",
    "# Correlation matrix\n",
    "correlation_matrix = df[time_periods].corr()\n",
    "\n",
    "# Heatmap\n",
    "plt.figure(figsize=(8, 6))\n",
    "sns.heatmap(correlation_matrix, annot=True, cmap='coolwarm')\n",
    "plt.title('Correlation Heatmap of Crime Data')\n",
    "plt.show()"
   ]
  },
  {
   "cell_type": "markdown",
   "id": "c877384d-3c77-4790-bd9a-17645305380d",
   "metadata": {},
   "source": [
    "# Correlation Heatmap of Crime Data  \n",
    "\n",
    "- Computed the **correlation matrix** to analyze relationships between different time-period crime counts.  \n",
    "- Used a **heatmap** to visually represent the strength and direction of correlations.  \n",
    "- Helps identify trends, such as whether crime numbers in one period impact another.  \n"
   ]
  },
  {
   "cell_type": "code",
   "execution_count": null,
   "id": "b0bccd21-5f45-44cb-a721-098b1c029e8a",
   "metadata": {},
   "outputs": [],
   "source": [
    "# Group by Minor Head and sum crimes\n",
    "minor_head_crimes = df.groupby('Minor Head')['During the current month'].sum().nlargest(10)\n",
    "\n",
    "# Plot\n",
    "plt.figure(figsize=(10, 6))\n",
    "minor_head_crimes.plot(kind='bar', color='teal')\n",
    "plt.title('Top 10 Crimes by Minor Head')\n",
    "plt.xlabel('Minor Head')\n",
    "plt.ylabel('Total Crimes in Current Month')\n",
    "plt.show()"
   ]
  },
  {
   "cell_type": "markdown",
   "id": "e5765079-774e-4f14-8b6d-8b39fbb1d5c2",
   "metadata": {},
   "source": [
    "# Top 10 Crimes by Minor Head  \n",
    "\n",
    "- Grouped data by **'Minor Head'** and summed crimes for the current month.  \n",
    "- Plotted a **bar chart** to highlight the **top 10 crime categories** with the highest occurrences.  \n",
    "- Helps in understanding which crime types are most prevalent.  \n"
   ]
  },
  {
   "cell_type": "code",
   "execution_count": null,
   "id": "9a7cf325-39fd-42f3-9610-f58b3fc8fd1f",
   "metadata": {},
   "outputs": [],
   "source": [
    "# Group by Heads of Crime and sum crimes\n",
    "heads_of_crime = df.groupby('Heads of Crime')['During the current month'].sum().nlargest(10)\n",
    "\n",
    "# Plot\n",
    "plt.figure(figsize=(10, 6))\n",
    "heads_of_crime.plot(kind='barh', color='coral')\n",
    "plt.title('Top 10 Crimes by Heads of Crime')\n",
    "plt.xlabel('Total Crimes in Current Month')\n",
    "plt.ylabel('Heads of Crime')\n",
    "plt.show()"
   ]
  },
  {
   "cell_type": "markdown",
   "id": "7000107b-2e58-4378-bd48-2c3bc6e061ac",
   "metadata": {},
   "source": [
    "# Top 10 Crimes by Heads of Crime  \n",
    "\n",
    "- Grouped data by **'Heads of Crime'** and summed crimes for the current month.  \n",
    "- Plotted a **horizontal bar chart** to visualize the **top 10 crime categories** with the highest occurrences.  \n",
    "- Helps in identifying major crime trends and areas requiring attention.  \n"
   ]
  },
  {
   "cell_type": "code",
   "execution_count": null,
   "id": "f4ba63a0-d976-4ab0-8d3e-69a00cc8c2d1",
   "metadata": {},
   "outputs": [],
   "source": [
    "# Sum crimes for each month\n",
    "monthly_crimes = df[['During the previous month', 'During the current month']].sum()\n",
    "\n",
    "# Plot\n",
    "plt.figure(figsize=(10, 6))\n",
    "plt.plot(monthly_crimes.index, monthly_crimes.values, marker='o', color='purple')\n",
    "plt.title('Crimes by Month')\n",
    "plt.xlabel('Month')\n",
    "plt.ylabel('Total Crimes')\n",
    "plt.xticks(rotation=45)\n",
    "plt.grid(True)\n",
    "plt.show()"
   ]
  },
  {
   "cell_type": "markdown",
   "id": "a452123d-3f58-4b79-932f-0b21dccf51e5",
   "metadata": {},
   "source": [
    "# Crimes by Month  \n",
    "\n",
    "- Summed total crimes for the **previous** and **current month**.  \n",
    "- Plotted a **line graph** to compare crime trends between the two months.  \n",
    "- Helps visualize fluctuations in crime rates over time.  \n"
   ]
  },
  {
   "cell_type": "code",
   "execution_count": null,
   "id": "d97f4976-f6e5-45b9-af14-2ed0b8ff3630",
   "metadata": {},
   "outputs": [],
   "source": [
    "# Box plot for crimes by Heads of Crime\n",
    "plt.figure(figsize=(12, 6))\n",
    "sns.boxplot(x='Heads of Crime', y='During the current month', data=df)\n",
    "plt.title('Crimes by Heads of Crime (Box Plot)')\n",
    "plt.xlabel('Heads of Crime')\n",
    "plt.ylabel('Total Crimes in Current Month')\n",
    "plt.xticks(rotation=90)\n",
    "plt.show()"
   ]
  },
  {
   "cell_type": "markdown",
   "id": "fe0ec2bf-0088-460a-ab8a-7fbf0e9d22af",
   "metadata": {},
   "source": [
    "# Crimes by Heads of Crime (Box Plot)  \n",
    "\n",
    "- Created a **box plot** to show the distribution of crimes for each **'Heads of Crime'** category.  \n",
    "- Helps identify **medians, variations, and outliers** in crime data.  \n",
    "- Useful for understanding the spread and consistency of crime occurrences.  \n"
   ]
  },
  {
   "cell_type": "code",
   "execution_count": null,
   "id": "9b19adf2-046d-46b6-ab3c-c2023dcc49ac",
   "metadata": {},
   "outputs": [],
   "source": [
    "# Strip plot for crimes by Heads of Crime\n",
    "plt.figure(figsize=(12, 6))\n",
    "sns.stripplot(x='Heads of Crime', y='During the current month', data=df, jitter=True, palette='viridis')\n",
    "plt.title('Crimes by Heads of Crime (Strip Plot)')\n",
    "plt.xlabel('Heads of Crime')\n",
    "plt.ylabel('Total Crimes in Current Month')\n",
    "plt.xticks(rotation=90)\n",
    "plt.show()"
   ]
  },
  {
   "cell_type": "markdown",
   "id": "151a6e29-c667-41dc-8958-6887fb8bbc1e",
   "metadata": {},
   "source": [
    "# Crimes by Heads of Crime (Strip Plot)  \n",
    "\n",
    "- Plotted a **strip plot** to visualize individual crime data points for each **'Heads of Crime'** category.  \n",
    "- **Jittering** was used to avoid overlapping points, making patterns clearer.  \n",
    "- Helps in identifying **data distribution, density, and outliers**.  \n"
   ]
  },
  {
   "cell_type": "code",
   "execution_count": null,
   "id": "bbf3061d-366c-4fba-afd7-a3629c1cc4c1",
   "metadata": {},
   "outputs": [],
   "source": [
    "# Pair plot for numerical columns\n",
    "sns.pairplot(df[['During the current year upto the end of month under review',\n",
    "                 'During the corresponding month of previous year',\n",
    "                 'During the previous month',\n",
    "                 'During the current month']])\n",
    "plt.suptitle('Pair Plot of Crimes Over Time', y=1.02)\n",
    "plt.show()"
   ]
  },
  {
   "cell_type": "markdown",
   "id": "584fb88b-7b79-4861-9dbe-91a5dd4b2054",
   "metadata": {},
   "source": [
    "# Pair Plot of Crimes Over Time  \n",
    "\n",
    "- Created a **pair plot** to visualize relationships between crime counts across different time periods.  \n",
    "- Helps identify **correlations, patterns, and trends** between different months.  \n",
    "- Useful for spotting **linear relationships or clusters** in the data.  \n"
   ]
  },
  {
   "cell_type": "code",
   "execution_count": null,
   "id": "70f9b5a8-f67f-4d5c-ba90-3c924265dcfe",
   "metadata": {},
   "outputs": [],
   "source": [
    "# Count plot for Heads of Crime\n",
    "plt.figure(figsize=(12, 6))\n",
    "sns.countplot(y='Heads of Crime', data=df, palette='magma')\n",
    "plt.title('Count of Crimes by Heads of Crime')\n",
    "plt.xlabel('Count')\n",
    "plt.ylabel('Heads of Crime')\n",
    "plt.show()"
   ]
  },
  {
   "cell_type": "markdown",
   "id": "6a1b9215-f1c5-4d82-9941-a602e2298812",
   "metadata": {},
   "source": [
    "# Count of Crimes by Heads of Crime  \n",
    "\n",
    "- Plotted a **count plot** to show the frequency of each **'Heads of Crime'** category.  \n",
    "- Helps identify the most and least common crime types.  \n",
    "- Useful for understanding crime distribution across different categories.  \n"
   ]
  },
  {
   "cell_type": "code",
   "execution_count": null,
   "id": "9bafe034-7aef-494c-86fd-cb079104c692",
   "metadata": {},
   "outputs": [],
   "source": [
    "# Area plot for crimes by Major Head\n",
    "major_head_crimes = df.groupby('Major Head')['During the current month'].sum()\n",
    "\n",
    "# Plot\n",
    "plt.figure(figsize=(10, 6))\n",
    "major_head_crimes.plot(kind='area', color='lightblue', alpha=0.6)\n",
    "plt.title('Crimes by Major Head (Area Plot)')\n",
    "plt.xlabel('Major Head')\n",
    "plt.ylabel('Total Crimes in Current Month')\n",
    "plt.xticks(rotation=45)\n",
    "plt.show()"
   ]
  },
  {
   "cell_type": "markdown",
   "id": "db0a18b2-276b-46f7-912f-cdd31818b37d",
   "metadata": {},
   "source": [
    "# Crimes by Major Head (Area Plot)  \n",
    "\n",
    "- Grouped data by **'Major Head'** and summed crimes for the current month.  \n",
    "- Used an **area plot** to visualize the total crime distribution across major crime categories.  \n",
    "- Helps in understanding the overall contribution of each major crime type.  \n"
   ]
  },
  {
   "cell_type": "code",
   "execution_count": null,
   "id": "fa1cb9e0-eaa9-4c52-a055-73e1e1fc5340",
   "metadata": {},
   "outputs": [],
   "source": [
    "# Scatter plot\n",
    "plt.figure(figsize=(8, 6))\n",
    "plt.scatter(df['During the previous month'], df['During the current month'], alpha=0.6, color='green')\n",
    "plt.title('Current Month vs. Previous Month Crimes')\n",
    "plt.xlabel('Previous Month Crimes')\n",
    "plt.ylabel('Current Month Crimes')\n",
    "plt.grid(True)\n",
    "plt.show()"
   ]
  },
  {
   "cell_type": "markdown",
   "id": "017ee49e-a3af-46a9-824a-4ff4d244bca1",
   "metadata": {},
   "source": [
    "# Current Month vs. Previous Month Crimes (Scatter Plot)  \n",
    "\n",
    "- Plotted a **scatter plot** to compare crime counts between the **previous month** and the **current month**.  \n",
    "- Helps identify **trends, correlations, and outliers** in crime patterns.  \n",
    "- Useful for detecting **fluctuations** in crime rates over time.  \n"
   ]
  },
  {
   "cell_type": "code",
   "execution_count": null,
   "id": "7fce5998-7ddb-4bfc-b4b6-b321174c2106",
   "metadata": {},
   "outputs": [],
   "source": [
    "# Histogram\n",
    "plt.figure(figsize=(10, 6))\n",
    "plt.hist(df['During the current month'], bins=20, color='orange', edgecolor='black')\n",
    "plt.title('Distribution of Crimes in Current Month')\n",
    "plt.xlabel('Number of Crimes')\n",
    "plt.ylabel('Frequency')\n",
    "plt.show()"
   ]
  },
  {
   "cell_type": "markdown",
   "id": "a509fe87-9a72-4b07-a755-9a34972cf4fe",
   "metadata": {},
   "source": [
    "# Distribution of Crimes in Current Month (Histogram)  \n",
    "\n",
    "- Plotted a **histogram** to show the distribution of crime counts for the **current month**.  \n",
    "- Helps identify **frequency patterns, skewness, and outliers** in crime data.  \n",
    "- Useful for understanding how crime counts are spread across different ranges.  \n"
   ]
  },
  {
   "cell_type": "code",
   "execution_count": null,
   "id": "365d2fb3-1c0d-4af9-864a-411305872934",
   "metadata": {},
   "outputs": [],
   "source": [
    "# Group by Heads of Crime and sum crimes\n",
    "heads_of_crime = df.groupby('Heads of Crime')['During the current month'].sum().nlargest(10)\n",
    "\n",
    "# Plot\n",
    "plt.figure(figsize=(10, 6))\n",
    "heads_of_crime.plot(kind='barh', color='purple')\n",
    "plt.title('Top 10 Crimes by Heads of Crime')\n",
    "plt.xlabel('Total Crimes in Current Month')\n",
    "plt.ylabel('Heads of Crime')\n",
    "plt.show()"
   ]
  },
  {
   "cell_type": "markdown",
   "id": "793c59ed-320e-404c-9664-247441c617bc",
   "metadata": {},
   "source": [
    "# Top 10 Crimes by Heads of Crime (Horizontal Bar Chart)  \n",
    "\n",
    "- Grouped data by **'Heads of Crime'** and summed up crimes for the **current month**.  \n",
    "- Plotted a **horizontal bar chart** to display the **top 10 most common crimes**.  \n",
    "- Helps in identifying the most frequent crime categories for better analysis and decision-making.  \n"
   ]
  },
  {
   "cell_type": "code",
   "execution_count": null,
   "id": "77ce1c06-f23d-4b55-92fc-b1813e6cbde1",
   "metadata": {},
   "outputs": [],
   "source": [
    "# Sum crimes for each time period\n",
    "time_periods = ['During the current year upto the end of month under review',\n",
    "                'During the corresponding month of previous year',\n",
    "                'During the previous month',\n",
    "                'During the current month']\n",
    "total_crimes = df[time_periods].sum()\n",
    "\n",
    "# Plot\n",
    "plt.figure(figsize=(10, 6))\n",
    "plt.plot(time_periods, total_crimes, marker='o', color='blue', linestyle='-', markersize=8)\n",
    "plt.title('Crimes Over Time')\n",
    "plt.xlabel('Time Period')\n",
    "plt.ylabel('Total Crimes')\n",
    "plt.xticks(rotation=45)\n",
    "plt.grid(True)\n",
    "plt.show()"
   ]
  },
  {
   "cell_type": "markdown",
   "id": "4090f937-6b8a-4cdb-84c9-216e8d1950c1",
   "metadata": {},
   "source": [
    "# Crimes Over Time (Line Plot)  \n",
    "\n",
    "- Summed up crimes for each **time period** to observe crime trends.  \n",
    "- Plotted a **line chart** with markers to visualize **crime variations over different periods**.  \n",
    "- Helps in identifying **patterns and trends** in crime rates over time.  \n"
   ]
  },
  {
   "cell_type": "code",
   "execution_count": null,
   "id": "073b20ac-685a-46eb-9c0e-e965e2331cd3",
   "metadata": {},
   "outputs": [],
   "source": [
    "# Histogram for crimes in the current year\n",
    "plt.figure(figsize=(10, 6))\n",
    "plt.hist(df['During the current year upto the end of month under review'], bins=20, color='green', edgecolor='black')\n",
    "plt.title('Distribution of Crimes in the Current Year')\n",
    "plt.xlabel('Number of Crimes')\n",
    "plt.ylabel('Frequency')\n",
    "plt.show()"
   ]
  },
  {
   "cell_type": "markdown",
   "id": "3653258b-b694-4411-a904-b8b95ab3fd16",
   "metadata": {},
   "source": [
    "# Distribution of Crimes in the Current Year (Histogram)  \n",
    "\n",
    "- Displayed the **distribution of crimes** reported throughout the current year.  \n",
    "- Used a **histogram** to visualize how crime counts are spread.  \n",
    "- Helps in identifying **common crime ranges** and **outliers**.  \n"
   ]
  },
  {
   "cell_type": "code",
   "execution_count": null,
   "id": "26faeceb-5fc5-425a-b705-3d8f0b36abc2",
   "metadata": {},
   "outputs": [],
   "source": [
    "# Scatter plot\n",
    "plt.figure(figsize=(8, 6))\n",
    "plt.scatter(df['During the corresponding month of previous year'], df['During the current month'], alpha=0.6, color='red')\n",
    "plt.title('Current Month vs. Corresponding Month of Previous Year')\n",
    "plt.xlabel('Crimes in Corresponding Month of Previous Year')\n",
    "plt.ylabel('Crimes in Current Month')\n",
    "plt.grid(True)\n",
    "plt.show()"
   ]
  },
  {
   "cell_type": "markdown",
   "id": "cc183144-e364-4d2b-974f-37f817c55a5c",
   "metadata": {},
   "source": [
    "# Current Month vs. Corresponding Month of Previous Year (Scatter Plot)  \n",
    "\n",
    "- **Comparison of crime counts** between the **current month** and the **same month in the previous year**.  \n",
    "- Each **point represents a data entry**, showing how crimes have increased or decreased.  \n",
    "- Helps in identifying **trends** and **correlations** over time.  \n"
   ]
  },
  {
   "cell_type": "code",
   "execution_count": null,
   "id": "2c476faf-b638-4607-b24a-3c962d8f7890",
   "metadata": {},
   "outputs": [],
   "source": []
  }
 ],
 "metadata": {
  "kernelspec": {
   "display_name": "Python 3 (ipykernel)",
   "language": "python",
   "name": "python3"
  },
  "language_info": {
   "codemirror_mode": {
    "name": "ipython",
    "version": 3
   },
   "file_extension": ".py",
   "mimetype": "text/x-python",
   "name": "python",
   "nbconvert_exporter": "python",
   "pygments_lexer": "ipython3",
   "version": "3.12.7"
  }
 },
 "nbformat": 4,
 "nbformat_minor": 5
}
